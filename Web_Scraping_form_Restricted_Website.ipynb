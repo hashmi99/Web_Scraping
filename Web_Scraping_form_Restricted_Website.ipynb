{
  "nbformat": 4,
  "nbformat_minor": 0,
  "metadata": {
    "colab": {
      "provenance": []
    },
    "kernelspec": {
      "name": "python3",
      "display_name": "Python 3"
    },
    "language_info": {
      "name": "python"
    }
  },
  "cells": [
    {
      "cell_type": "markdown",
      "source": [
        "**Description**\n",
        "\n",
        "There are certain websites that denies the request to extarct data. It will return error with some numbers (e.g error 503). In order to deal with this case following code is to be used for extracting the tables from restricted website."
      ],
      "metadata": {
        "id": "Un-T9ZJwxbMF"
      }
    },
    {
      "cell_type": "code",
      "source": [
        "import requests\n",
        "from pandas.io.json import json_normalize\n",
        "import pandas as pd"
      ],
      "metadata": {
        "id": "I4TUvLARw5l1"
      },
      "execution_count": 11,
      "outputs": []
    },
    {
      "cell_type": "code",
      "execution_count": 12,
      "metadata": {
        "id": "WK6OO8iiuKQ4"
      },
      "outputs": [],
      "source": [
        "# HTTP request to amazon using python requests module\n",
        "\n",
        "\n",
        "# define the headers reqired\n",
        "headers = {\n",
        "    'authority': 'https://nwfc.pmd.gov.pk/new/max-temp.php',\n",
        "    'accept': 'text/html,application/xhtml+xml,application/xml;q=0.9,image/avif,image/webp,image/apng,*/*;q=0.8,application/signed-exchange;v=b3;q=0.9',\n",
        "    'accept-language': 'en-GB,en-US;q=0.9,en;q=0.8',\n",
        "    'cache-control': 'no-cache',\n",
        "    'device-memory': '8',\n",
        "    'downlink': '10',\n",
        "    'dpr': '1',\n",
        "    'ect': '4g',\n",
        "    'pragma': 'no-cache',\n",
        "    'rtt': '100',\n",
        "    'sec-ch-device-memory': '8',\n",
        "    'sec-ch-dpr': '1',\n",
        "    'sec-ch-ua': '\"Chromium\";v=\"106\", \"Google Chrome\";v=\"106\", \"Not;A=Brand\";v=\"99\"',\n",
        "    'sec-ch-ua-mobile': '?0',\n",
        "    'sec-ch-ua-platform': '\"Linux\"',\n",
        "    'sec-ch-viewport-width': '1920',\n",
        "    'sec-fetch-dest': 'document',\n",
        "    'sec-fetch-mode': 'navigate',\n",
        "    'sec-fetch-site': 'none',\n",
        "    'sec-fetch-user': '?1',\n",
        "    'upgrade-insecure-requests': '1',\n",
        "    'user-agent': 'Mozilla/5.0 (X11; Linux x86_64) AppleWebKit/537.36 (KHTML, like Gecko) Chrome/106.0.0.0 Safari/537.36',\n",
        "    'viewport-width': '1920',\n",
        "}\n",
        "# http request with headers\n",
        "response = requests.get(url, headers=headers)\n",
        "\n",
        "# checking the status code and obtaining the html response content\n",
        "if(response.status_code == 200):\n",
        "    html_content = response.text"
      ]
    },
    {
      "cell_type": "code",
      "source": [
        "# Fetching html content using python requests\n",
        "#html_content = get_response_text(url)\n",
        "\n",
        "# fetching all the tables in html content passed\n",
        "all_tables = pd.read_html(html_content)"
      ],
      "metadata": {
        "id": "jG19sZLdwJs9"
      },
      "execution_count": 6,
      "outputs": []
    },
    {
      "cell_type": "code",
      "source": [
        "print(len(all_tables))"
      ],
      "metadata": {
        "colab": {
          "base_uri": "https://localhost:8080/"
        },
        "id": "80S0Z3RZwOBd",
        "outputId": "f3613e3a-931a-4d05-e67e-b22c5896e6e5"
      },
      "execution_count": 7,
      "outputs": [
        {
          "output_type": "stream",
          "name": "stdout",
          "text": [
            "1\n"
          ]
        }
      ]
    },
    {
      "cell_type": "code",
      "source": [
        "df = all_tables[0]"
      ],
      "metadata": {
        "id": "tOEiGIGmwOuC"
      },
      "execution_count": 8,
      "outputs": []
    },
    {
      "cell_type": "code",
      "source": [
        "import plotly.express as px\n",
        "\n",
        "# Assuming 'df' is your DataFrame containing the 'SYMBOL' and 'PRICE' columns\n",
        "fig = px.scatter (df, x= 'Maximum Temp (°C)', y= 'Province', title=\"Sample Figure\")\n",
        "print(fig)\n",
        "fig.show()"
      ],
      "metadata": {
        "colab": {
          "base_uri": "https://localhost:8080/",
          "height": 1000
        },
        "id": "aKM0sf0AwRk7",
        "outputId": "1a5d098a-48f4-4d91-ff01-f326bab2a9d9"
      },
      "execution_count": 9,
      "outputs": [
        {
          "output_type": "stream",
          "name": "stdout",
          "text": [
            "Figure({\n",
            "    'data': [{'hovertemplate': 'Maximum Temp (°C)=%{x}<br>Province=%{y}<extra></extra>',\n",
            "              'legendgroup': '',\n",
            "              'marker': {'color': '#636efa', 'symbol': 'circle'},\n",
            "              'mode': 'markers',\n",
            "              'name': '',\n",
            "              'orientation': 'h',\n",
            "              'showlegend': False,\n",
            "              'type': 'scatter',\n",
            "              'x': array([46, 45, 45, 44, 42, 42, 41, 40, 40, 40, 40, 39, 39, 38, 37, 37, 37, 36,\n",
            "                          36, 36, 35, 34, 34, 34, 34, 33, 32, 32, 32, 32, 31, 31, 29, 29, 28, 28,\n",
            "                          28, 28, 28, 27, 26, 26, 24, 22, 21, 19]),\n",
            "              'xaxis': 'x',\n",
            "              'y': array(['Balochistan', 'Sindh', 'Balochistan', 'Sindh', 'Sindh', 'Sindh',\n",
            "                          'Balochistan', 'Balochistan', 'GB', 'Punjab', 'Punjab', 'Sindh', 'KPK',\n",
            "                          'Sindh', 'Punjab', 'KPK', 'GB', 'Punjab', 'Sindh', 'GB', 'Balochistan',\n",
            "                          'Punjab', 'Balochistan', 'Punjab', 'Sindh', 'Balochistan', 'GB', 'KPK',\n",
            "                          'KPK', 'Punjab', 'KPK', 'KPK', 'Kashmir', 'Punjab', 'Islamabad',\n",
            "                          'Punjab', 'Kashmir', 'Punjab', 'Kashmir', 'Kashmir', 'Kashmir',\n",
            "                          'Punjab', 'KPK', 'Kashmir', 'KPK', 'Punjab'], dtype=object),\n",
            "              'yaxis': 'y'}],\n",
            "    'layout': {'legend': {'tracegroupgap': 0},\n",
            "               'template': '...',\n",
            "               'title': {'text': 'Sample Figure'},\n",
            "               'xaxis': {'anchor': 'y', 'domain': [0.0, 1.0], 'title': {'text': 'Maximum Temp (°C)'}},\n",
            "               'yaxis': {'anchor': 'x', 'domain': [0.0, 1.0], 'title': {'text': 'Province'}}}\n",
            "})\n"
          ]
        },
        {
          "output_type": "display_data",
          "data": {
            "text/html": [
              "<html>\n",
              "<head><meta charset=\"utf-8\" /></head>\n",
              "<body>\n",
              "    <div>            <script src=\"https://cdnjs.cloudflare.com/ajax/libs/mathjax/2.7.5/MathJax.js?config=TeX-AMS-MML_SVG\"></script><script type=\"text/javascript\">if (window.MathJax && window.MathJax.Hub && window.MathJax.Hub.Config) {window.MathJax.Hub.Config({SVG: {font: \"STIX-Web\"}});}</script>                <script type=\"text/javascript\">window.PlotlyConfig = {MathJaxConfig: 'local'};</script>\n",
              "        <script src=\"https://cdn.plot.ly/plotly-2.18.2.min.js\"></script>                <div id=\"b0e2216e-2a3f-4d94-9f73-cfa6e1b09e49\" class=\"plotly-graph-div\" style=\"height:525px; width:100%;\"></div>            <script type=\"text/javascript\">                                    window.PLOTLYENV=window.PLOTLYENV || {};                                    if (document.getElementById(\"b0e2216e-2a3f-4d94-9f73-cfa6e1b09e49\")) {                    Plotly.newPlot(                        \"b0e2216e-2a3f-4d94-9f73-cfa6e1b09e49\",                        [{\"hovertemplate\":\"Maximum Temp (\\u00b0C)=%{x}<br>Province=%{y}<extra></extra>\",\"legendgroup\":\"\",\"marker\":{\"color\":\"#636efa\",\"symbol\":\"circle\"},\"mode\":\"markers\",\"name\":\"\",\"orientation\":\"h\",\"showlegend\":false,\"x\":[46,45,45,44,42,42,41,40,40,40,40,39,39,38,37,37,37,36,36,36,35,34,34,34,34,33,32,32,32,32,31,31,29,29,28,28,28,28,28,27,26,26,24,22,21,19],\"xaxis\":\"x\",\"y\":[\"Balochistan\",\"Sindh\",\"Balochistan\",\"Sindh\",\"Sindh\",\"Sindh\",\"Balochistan\",\"Balochistan\",\"GB\",\"Punjab\",\"Punjab\",\"Sindh\",\"KPK\",\"Sindh\",\"Punjab\",\"KPK\",\"GB\",\"Punjab\",\"Sindh\",\"GB\",\"Balochistan\",\"Punjab\",\"Balochistan\",\"Punjab\",\"Sindh\",\"Balochistan\",\"GB\",\"KPK\",\"KPK\",\"Punjab\",\"KPK\",\"KPK\",\"Kashmir\",\"Punjab\",\"Islamabad\",\"Punjab\",\"Kashmir\",\"Punjab\",\"Kashmir\",\"Kashmir\",\"Kashmir\",\"Punjab\",\"KPK\",\"Kashmir\",\"KPK\",\"Punjab\"],\"yaxis\":\"y\",\"type\":\"scatter\"}],                        {\"template\":{\"data\":{\"histogram2dcontour\":[{\"type\":\"histogram2dcontour\",\"colorbar\":{\"outlinewidth\":0,\"ticks\":\"\"},\"colorscale\":[[0.0,\"#0d0887\"],[0.1111111111111111,\"#46039f\"],[0.2222222222222222,\"#7201a8\"],[0.3333333333333333,\"#9c179e\"],[0.4444444444444444,\"#bd3786\"],[0.5555555555555556,\"#d8576b\"],[0.6666666666666666,\"#ed7953\"],[0.7777777777777778,\"#fb9f3a\"],[0.8888888888888888,\"#fdca26\"],[1.0,\"#f0f921\"]]}],\"choropleth\":[{\"type\":\"choropleth\",\"colorbar\":{\"outlinewidth\":0,\"ticks\":\"\"}}],\"histogram2d\":[{\"type\":\"histogram2d\",\"colorbar\":{\"outlinewidth\":0,\"ticks\":\"\"},\"colorscale\":[[0.0,\"#0d0887\"],[0.1111111111111111,\"#46039f\"],[0.2222222222222222,\"#7201a8\"],[0.3333333333333333,\"#9c179e\"],[0.4444444444444444,\"#bd3786\"],[0.5555555555555556,\"#d8576b\"],[0.6666666666666666,\"#ed7953\"],[0.7777777777777778,\"#fb9f3a\"],[0.8888888888888888,\"#fdca26\"],[1.0,\"#f0f921\"]]}],\"heatmap\":[{\"type\":\"heatmap\",\"colorbar\":{\"outlinewidth\":0,\"ticks\":\"\"},\"colorscale\":[[0.0,\"#0d0887\"],[0.1111111111111111,\"#46039f\"],[0.2222222222222222,\"#7201a8\"],[0.3333333333333333,\"#9c179e\"],[0.4444444444444444,\"#bd3786\"],[0.5555555555555556,\"#d8576b\"],[0.6666666666666666,\"#ed7953\"],[0.7777777777777778,\"#fb9f3a\"],[0.8888888888888888,\"#fdca26\"],[1.0,\"#f0f921\"]]}],\"heatmapgl\":[{\"type\":\"heatmapgl\",\"colorbar\":{\"outlinewidth\":0,\"ticks\":\"\"},\"colorscale\":[[0.0,\"#0d0887\"],[0.1111111111111111,\"#46039f\"],[0.2222222222222222,\"#7201a8\"],[0.3333333333333333,\"#9c179e\"],[0.4444444444444444,\"#bd3786\"],[0.5555555555555556,\"#d8576b\"],[0.6666666666666666,\"#ed7953\"],[0.7777777777777778,\"#fb9f3a\"],[0.8888888888888888,\"#fdca26\"],[1.0,\"#f0f921\"]]}],\"contourcarpet\":[{\"type\":\"contourcarpet\",\"colorbar\":{\"outlinewidth\":0,\"ticks\":\"\"}}],\"contour\":[{\"type\":\"contour\",\"colorbar\":{\"outlinewidth\":0,\"ticks\":\"\"},\"colorscale\":[[0.0,\"#0d0887\"],[0.1111111111111111,\"#46039f\"],[0.2222222222222222,\"#7201a8\"],[0.3333333333333333,\"#9c179e\"],[0.4444444444444444,\"#bd3786\"],[0.5555555555555556,\"#d8576b\"],[0.6666666666666666,\"#ed7953\"],[0.7777777777777778,\"#fb9f3a\"],[0.8888888888888888,\"#fdca26\"],[1.0,\"#f0f921\"]]}],\"surface\":[{\"type\":\"surface\",\"colorbar\":{\"outlinewidth\":0,\"ticks\":\"\"},\"colorscale\":[[0.0,\"#0d0887\"],[0.1111111111111111,\"#46039f\"],[0.2222222222222222,\"#7201a8\"],[0.3333333333333333,\"#9c179e\"],[0.4444444444444444,\"#bd3786\"],[0.5555555555555556,\"#d8576b\"],[0.6666666666666666,\"#ed7953\"],[0.7777777777777778,\"#fb9f3a\"],[0.8888888888888888,\"#fdca26\"],[1.0,\"#f0f921\"]]}],\"mesh3d\":[{\"type\":\"mesh3d\",\"colorbar\":{\"outlinewidth\":0,\"ticks\":\"\"}}],\"scatter\":[{\"fillpattern\":{\"fillmode\":\"overlay\",\"size\":10,\"solidity\":0.2},\"type\":\"scatter\"}],\"parcoords\":[{\"type\":\"parcoords\",\"line\":{\"colorbar\":{\"outlinewidth\":0,\"ticks\":\"\"}}}],\"scatterpolargl\":[{\"type\":\"scatterpolargl\",\"marker\":{\"colorbar\":{\"outlinewidth\":0,\"ticks\":\"\"}}}],\"bar\":[{\"error_x\":{\"color\":\"#2a3f5f\"},\"error_y\":{\"color\":\"#2a3f5f\"},\"marker\":{\"line\":{\"color\":\"#E5ECF6\",\"width\":0.5},\"pattern\":{\"fillmode\":\"overlay\",\"size\":10,\"solidity\":0.2}},\"type\":\"bar\"}],\"scattergeo\":[{\"type\":\"scattergeo\",\"marker\":{\"colorbar\":{\"outlinewidth\":0,\"ticks\":\"\"}}}],\"scatterpolar\":[{\"type\":\"scatterpolar\",\"marker\":{\"colorbar\":{\"outlinewidth\":0,\"ticks\":\"\"}}}],\"histogram\":[{\"marker\":{\"pattern\":{\"fillmode\":\"overlay\",\"size\":10,\"solidity\":0.2}},\"type\":\"histogram\"}],\"scattergl\":[{\"type\":\"scattergl\",\"marker\":{\"colorbar\":{\"outlinewidth\":0,\"ticks\":\"\"}}}],\"scatter3d\":[{\"type\":\"scatter3d\",\"line\":{\"colorbar\":{\"outlinewidth\":0,\"ticks\":\"\"}},\"marker\":{\"colorbar\":{\"outlinewidth\":0,\"ticks\":\"\"}}}],\"scattermapbox\":[{\"type\":\"scattermapbox\",\"marker\":{\"colorbar\":{\"outlinewidth\":0,\"ticks\":\"\"}}}],\"scatterternary\":[{\"type\":\"scatterternary\",\"marker\":{\"colorbar\":{\"outlinewidth\":0,\"ticks\":\"\"}}}],\"scattercarpet\":[{\"type\":\"scattercarpet\",\"marker\":{\"colorbar\":{\"outlinewidth\":0,\"ticks\":\"\"}}}],\"carpet\":[{\"aaxis\":{\"endlinecolor\":\"#2a3f5f\",\"gridcolor\":\"white\",\"linecolor\":\"white\",\"minorgridcolor\":\"white\",\"startlinecolor\":\"#2a3f5f\"},\"baxis\":{\"endlinecolor\":\"#2a3f5f\",\"gridcolor\":\"white\",\"linecolor\":\"white\",\"minorgridcolor\":\"white\",\"startlinecolor\":\"#2a3f5f\"},\"type\":\"carpet\"}],\"table\":[{\"cells\":{\"fill\":{\"color\":\"#EBF0F8\"},\"line\":{\"color\":\"white\"}},\"header\":{\"fill\":{\"color\":\"#C8D4E3\"},\"line\":{\"color\":\"white\"}},\"type\":\"table\"}],\"barpolar\":[{\"marker\":{\"line\":{\"color\":\"#E5ECF6\",\"width\":0.5},\"pattern\":{\"fillmode\":\"overlay\",\"size\":10,\"solidity\":0.2}},\"type\":\"barpolar\"}],\"pie\":[{\"automargin\":true,\"type\":\"pie\"}]},\"layout\":{\"autotypenumbers\":\"strict\",\"colorway\":[\"#636efa\",\"#EF553B\",\"#00cc96\",\"#ab63fa\",\"#FFA15A\",\"#19d3f3\",\"#FF6692\",\"#B6E880\",\"#FF97FF\",\"#FECB52\"],\"font\":{\"color\":\"#2a3f5f\"},\"hovermode\":\"closest\",\"hoverlabel\":{\"align\":\"left\"},\"paper_bgcolor\":\"white\",\"plot_bgcolor\":\"#E5ECF6\",\"polar\":{\"bgcolor\":\"#E5ECF6\",\"angularaxis\":{\"gridcolor\":\"white\",\"linecolor\":\"white\",\"ticks\":\"\"},\"radialaxis\":{\"gridcolor\":\"white\",\"linecolor\":\"white\",\"ticks\":\"\"}},\"ternary\":{\"bgcolor\":\"#E5ECF6\",\"aaxis\":{\"gridcolor\":\"white\",\"linecolor\":\"white\",\"ticks\":\"\"},\"baxis\":{\"gridcolor\":\"white\",\"linecolor\":\"white\",\"ticks\":\"\"},\"caxis\":{\"gridcolor\":\"white\",\"linecolor\":\"white\",\"ticks\":\"\"}},\"coloraxis\":{\"colorbar\":{\"outlinewidth\":0,\"ticks\":\"\"}},\"colorscale\":{\"sequential\":[[0.0,\"#0d0887\"],[0.1111111111111111,\"#46039f\"],[0.2222222222222222,\"#7201a8\"],[0.3333333333333333,\"#9c179e\"],[0.4444444444444444,\"#bd3786\"],[0.5555555555555556,\"#d8576b\"],[0.6666666666666666,\"#ed7953\"],[0.7777777777777778,\"#fb9f3a\"],[0.8888888888888888,\"#fdca26\"],[1.0,\"#f0f921\"]],\"sequentialminus\":[[0.0,\"#0d0887\"],[0.1111111111111111,\"#46039f\"],[0.2222222222222222,\"#7201a8\"],[0.3333333333333333,\"#9c179e\"],[0.4444444444444444,\"#bd3786\"],[0.5555555555555556,\"#d8576b\"],[0.6666666666666666,\"#ed7953\"],[0.7777777777777778,\"#fb9f3a\"],[0.8888888888888888,\"#fdca26\"],[1.0,\"#f0f921\"]],\"diverging\":[[0,\"#8e0152\"],[0.1,\"#c51b7d\"],[0.2,\"#de77ae\"],[0.3,\"#f1b6da\"],[0.4,\"#fde0ef\"],[0.5,\"#f7f7f7\"],[0.6,\"#e6f5d0\"],[0.7,\"#b8e186\"],[0.8,\"#7fbc41\"],[0.9,\"#4d9221\"],[1,\"#276419\"]]},\"xaxis\":{\"gridcolor\":\"white\",\"linecolor\":\"white\",\"ticks\":\"\",\"title\":{\"standoff\":15},\"zerolinecolor\":\"white\",\"automargin\":true,\"zerolinewidth\":2},\"yaxis\":{\"gridcolor\":\"white\",\"linecolor\":\"white\",\"ticks\":\"\",\"title\":{\"standoff\":15},\"zerolinecolor\":\"white\",\"automargin\":true,\"zerolinewidth\":2},\"scene\":{\"xaxis\":{\"backgroundcolor\":\"#E5ECF6\",\"gridcolor\":\"white\",\"linecolor\":\"white\",\"showbackground\":true,\"ticks\":\"\",\"zerolinecolor\":\"white\",\"gridwidth\":2},\"yaxis\":{\"backgroundcolor\":\"#E5ECF6\",\"gridcolor\":\"white\",\"linecolor\":\"white\",\"showbackground\":true,\"ticks\":\"\",\"zerolinecolor\":\"white\",\"gridwidth\":2},\"zaxis\":{\"backgroundcolor\":\"#E5ECF6\",\"gridcolor\":\"white\",\"linecolor\":\"white\",\"showbackground\":true,\"ticks\":\"\",\"zerolinecolor\":\"white\",\"gridwidth\":2}},\"shapedefaults\":{\"line\":{\"color\":\"#2a3f5f\"}},\"annotationdefaults\":{\"arrowcolor\":\"#2a3f5f\",\"arrowhead\":0,\"arrowwidth\":1},\"geo\":{\"bgcolor\":\"white\",\"landcolor\":\"#E5ECF6\",\"subunitcolor\":\"white\",\"showland\":true,\"showlakes\":true,\"lakecolor\":\"white\"},\"title\":{\"x\":0.05},\"mapbox\":{\"style\":\"light\"}}},\"xaxis\":{\"anchor\":\"y\",\"domain\":[0.0,1.0],\"title\":{\"text\":\"Maximum Temp (\\u00b0C)\"}},\"yaxis\":{\"anchor\":\"x\",\"domain\":[0.0,1.0],\"title\":{\"text\":\"Province\"}},\"legend\":{\"tracegroupgap\":0},\"title\":{\"text\":\"Sample Figure\"}},                        {\"responsive\": true}                    ).then(function(){\n",
              "                            \n",
              "var gd = document.getElementById('b0e2216e-2a3f-4d94-9f73-cfa6e1b09e49');\n",
              "var x = new MutationObserver(function (mutations, observer) {{\n",
              "        var display = window.getComputedStyle(gd).display;\n",
              "        if (!display || display === 'none') {{\n",
              "            console.log([gd, 'removed!']);\n",
              "            Plotly.purge(gd);\n",
              "            observer.disconnect();\n",
              "        }}\n",
              "}});\n",
              "\n",
              "// Listen for the removal of the full notebook cells\n",
              "var notebookContainer = gd.closest('#notebook-container');\n",
              "if (notebookContainer) {{\n",
              "    x.observe(notebookContainer, {childList: true});\n",
              "}}\n",
              "\n",
              "// Listen for the clearing of the current output cell\n",
              "var outputEl = gd.closest('.output');\n",
              "if (outputEl) {{\n",
              "    x.observe(outputEl, {childList: true});\n",
              "}}\n",
              "\n",
              "                        })                };                            </script>        </div>\n",
              "</body>\n",
              "</html>"
            ]
          },
          "metadata": {}
        }
      ]
    },
    {
      "cell_type": "code",
      "source": [
        "import plotly.express as px\n",
        "\n",
        "# Assuming 'df' is your DataFrame containing the 'SYMBOL' and 'PRICE' columns\n",
        "fig = px.scatter (df, x= 'Maximum Temp (°C)', y= 'Province', title=\"Sample Figure\", color=\"Province\", size='Maximum Temp (°C)')\n",
        "print(fig)\n",
        "fig.show()"
      ],
      "metadata": {
        "colab": {
          "base_uri": "https://localhost:8080/",
          "height": 1000
        },
        "id": "SZM0hU9owZ-E",
        "outputId": "40aa0968-8461-4001-a458-6f553675cc7e"
      },
      "execution_count": 10,
      "outputs": [
        {
          "output_type": "stream",
          "name": "stdout",
          "text": [
            "Figure({\n",
            "    'data': [{'hovertemplate': 'Province=%{y}<br>Maximum Temp (°C)=%{marker.size}<extra></extra>',\n",
            "              'legendgroup': 'Balochistan',\n",
            "              'marker': {'color': '#636efa',\n",
            "                         'size': array([46, 45, 41, 40, 35, 34, 33]),\n",
            "                         'sizemode': 'area',\n",
            "                         'sizeref': 0.115,\n",
            "                         'symbol': 'circle'},\n",
            "              'mode': 'markers',\n",
            "              'name': 'Balochistan',\n",
            "              'orientation': 'h',\n",
            "              'showlegend': True,\n",
            "              'type': 'scatter',\n",
            "              'x': array([46, 45, 41, 40, 35, 34, 33]),\n",
            "              'xaxis': 'x',\n",
            "              'y': array(['Balochistan', 'Balochistan', 'Balochistan', 'Balochistan',\n",
            "                          'Balochistan', 'Balochistan', 'Balochistan'], dtype=object),\n",
            "              'yaxis': 'y'},\n",
            "             {'hovertemplate': 'Province=%{y}<br>Maximum Temp (°C)=%{marker.size}<extra></extra>',\n",
            "              'legendgroup': 'Sindh',\n",
            "              'marker': {'color': '#EF553B',\n",
            "                         'size': array([45, 44, 42, 42, 39, 38, 36, 34]),\n",
            "                         'sizemode': 'area',\n",
            "                         'sizeref': 0.115,\n",
            "                         'symbol': 'circle'},\n",
            "              'mode': 'markers',\n",
            "              'name': 'Sindh',\n",
            "              'orientation': 'h',\n",
            "              'showlegend': True,\n",
            "              'type': 'scatter',\n",
            "              'x': array([45, 44, 42, 42, 39, 38, 36, 34]),\n",
            "              'xaxis': 'x',\n",
            "              'y': array(['Sindh', 'Sindh', 'Sindh', 'Sindh', 'Sindh', 'Sindh', 'Sindh', 'Sindh'],\n",
            "                         dtype=object),\n",
            "              'yaxis': 'y'},\n",
            "             {'hovertemplate': 'Province=%{y}<br>Maximum Temp (°C)=%{marker.size}<extra></extra>',\n",
            "              'legendgroup': 'GB',\n",
            "              'marker': {'color': '#00cc96',\n",
            "                         'size': array([40, 37, 36, 32]),\n",
            "                         'sizemode': 'area',\n",
            "                         'sizeref': 0.115,\n",
            "                         'symbol': 'circle'},\n",
            "              'mode': 'markers',\n",
            "              'name': 'GB',\n",
            "              'orientation': 'h',\n",
            "              'showlegend': True,\n",
            "              'type': 'scatter',\n",
            "              'x': array([40, 37, 36, 32]),\n",
            "              'xaxis': 'x',\n",
            "              'y': array(['GB', 'GB', 'GB', 'GB'], dtype=object),\n",
            "              'yaxis': 'y'},\n",
            "             {'hovertemplate': 'Province=%{y}<br>Maximum Temp (°C)=%{marker.size}<extra></extra>',\n",
            "              'legendgroup': 'Punjab',\n",
            "              'marker': {'color': '#ab63fa',\n",
            "                         'size': array([40, 40, 37, 36, 34, 34, 32, 29, 28, 28, 26, 19]),\n",
            "                         'sizemode': 'area',\n",
            "                         'sizeref': 0.115,\n",
            "                         'symbol': 'circle'},\n",
            "              'mode': 'markers',\n",
            "              'name': 'Punjab',\n",
            "              'orientation': 'h',\n",
            "              'showlegend': True,\n",
            "              'type': 'scatter',\n",
            "              'x': array([40, 40, 37, 36, 34, 34, 32, 29, 28, 28, 26, 19]),\n",
            "              'xaxis': 'x',\n",
            "              'y': array(['Punjab', 'Punjab', 'Punjab', 'Punjab', 'Punjab', 'Punjab', 'Punjab',\n",
            "                          'Punjab', 'Punjab', 'Punjab', 'Punjab', 'Punjab'], dtype=object),\n",
            "              'yaxis': 'y'},\n",
            "             {'hovertemplate': 'Province=%{y}<br>Maximum Temp (°C)=%{marker.size}<extra></extra>',\n",
            "              'legendgroup': 'KPK',\n",
            "              'marker': {'color': '#FFA15A',\n",
            "                         'size': array([39, 37, 32, 32, 31, 31, 24, 21]),\n",
            "                         'sizemode': 'area',\n",
            "                         'sizeref': 0.115,\n",
            "                         'symbol': 'circle'},\n",
            "              'mode': 'markers',\n",
            "              'name': 'KPK',\n",
            "              'orientation': 'h',\n",
            "              'showlegend': True,\n",
            "              'type': 'scatter',\n",
            "              'x': array([39, 37, 32, 32, 31, 31, 24, 21]),\n",
            "              'xaxis': 'x',\n",
            "              'y': array(['KPK', 'KPK', 'KPK', 'KPK', 'KPK', 'KPK', 'KPK', 'KPK'], dtype=object),\n",
            "              'yaxis': 'y'},\n",
            "             {'hovertemplate': 'Province=%{y}<br>Maximum Temp (°C)=%{marker.size}<extra></extra>',\n",
            "              'legendgroup': 'Kashmir',\n",
            "              'marker': {'color': '#19d3f3',\n",
            "                         'size': array([29, 28, 28, 27, 26, 22]),\n",
            "                         'sizemode': 'area',\n",
            "                         'sizeref': 0.115,\n",
            "                         'symbol': 'circle'},\n",
            "              'mode': 'markers',\n",
            "              'name': 'Kashmir',\n",
            "              'orientation': 'h',\n",
            "              'showlegend': True,\n",
            "              'type': 'scatter',\n",
            "              'x': array([29, 28, 28, 27, 26, 22]),\n",
            "              'xaxis': 'x',\n",
            "              'y': array(['Kashmir', 'Kashmir', 'Kashmir', 'Kashmir', 'Kashmir', 'Kashmir'],\n",
            "                         dtype=object),\n",
            "              'yaxis': 'y'},\n",
            "             {'hovertemplate': 'Province=%{y}<br>Maximum Temp (°C)=%{marker.size}<extra></extra>',\n",
            "              'legendgroup': 'Islamabad',\n",
            "              'marker': {'color': '#FF6692',\n",
            "                         'size': array([28]),\n",
            "                         'sizemode': 'area',\n",
            "                         'sizeref': 0.115,\n",
            "                         'symbol': 'circle'},\n",
            "              'mode': 'markers',\n",
            "              'name': 'Islamabad',\n",
            "              'orientation': 'h',\n",
            "              'showlegend': True,\n",
            "              'type': 'scatter',\n",
            "              'x': array([28]),\n",
            "              'xaxis': 'x',\n",
            "              'y': array(['Islamabad'], dtype=object),\n",
            "              'yaxis': 'y'}],\n",
            "    'layout': {'legend': {'itemsizing': 'constant', 'title': {'text': 'Province'}, 'tracegroupgap': 0},\n",
            "               'template': '...',\n",
            "               'title': {'text': 'Sample Figure'},\n",
            "               'xaxis': {'anchor': 'y', 'domain': [0.0, 1.0], 'title': {'text': 'Maximum Temp (°C)'}},\n",
            "               'yaxis': {'anchor': 'x',\n",
            "                         'categoryarray': [Islamabad, Kashmir, KPK, Punjab, GB,\n",
            "                                           Sindh, Balochistan],\n",
            "                         'categoryorder': 'array',\n",
            "                         'domain': [0.0, 1.0],\n",
            "                         'title': {'text': 'Province'}}}\n",
            "})\n"
          ]
        },
        {
          "output_type": "display_data",
          "data": {
            "text/html": [
              "<html>\n",
              "<head><meta charset=\"utf-8\" /></head>\n",
              "<body>\n",
              "    <div>            <script src=\"https://cdnjs.cloudflare.com/ajax/libs/mathjax/2.7.5/MathJax.js?config=TeX-AMS-MML_SVG\"></script><script type=\"text/javascript\">if (window.MathJax && window.MathJax.Hub && window.MathJax.Hub.Config) {window.MathJax.Hub.Config({SVG: {font: \"STIX-Web\"}});}</script>                <script type=\"text/javascript\">window.PlotlyConfig = {MathJaxConfig: 'local'};</script>\n",
              "        <script src=\"https://cdn.plot.ly/plotly-2.18.2.min.js\"></script>                <div id=\"5c094358-e3c6-42b8-8061-b49faf27627f\" class=\"plotly-graph-div\" style=\"height:525px; width:100%;\"></div>            <script type=\"text/javascript\">                                    window.PLOTLYENV=window.PLOTLYENV || {};                                    if (document.getElementById(\"5c094358-e3c6-42b8-8061-b49faf27627f\")) {                    Plotly.newPlot(                        \"5c094358-e3c6-42b8-8061-b49faf27627f\",                        [{\"hovertemplate\":\"Province=%{y}<br>Maximum Temp (\\u00b0C)=%{marker.size}<extra></extra>\",\"legendgroup\":\"Balochistan\",\"marker\":{\"color\":\"#636efa\",\"size\":[46,45,41,40,35,34,33],\"sizemode\":\"area\",\"sizeref\":0.115,\"symbol\":\"circle\"},\"mode\":\"markers\",\"name\":\"Balochistan\",\"orientation\":\"h\",\"showlegend\":true,\"x\":[46,45,41,40,35,34,33],\"xaxis\":\"x\",\"y\":[\"Balochistan\",\"Balochistan\",\"Balochistan\",\"Balochistan\",\"Balochistan\",\"Balochistan\",\"Balochistan\"],\"yaxis\":\"y\",\"type\":\"scatter\"},{\"hovertemplate\":\"Province=%{y}<br>Maximum Temp (\\u00b0C)=%{marker.size}<extra></extra>\",\"legendgroup\":\"Sindh\",\"marker\":{\"color\":\"#EF553B\",\"size\":[45,44,42,42,39,38,36,34],\"sizemode\":\"area\",\"sizeref\":0.115,\"symbol\":\"circle\"},\"mode\":\"markers\",\"name\":\"Sindh\",\"orientation\":\"h\",\"showlegend\":true,\"x\":[45,44,42,42,39,38,36,34],\"xaxis\":\"x\",\"y\":[\"Sindh\",\"Sindh\",\"Sindh\",\"Sindh\",\"Sindh\",\"Sindh\",\"Sindh\",\"Sindh\"],\"yaxis\":\"y\",\"type\":\"scatter\"},{\"hovertemplate\":\"Province=%{y}<br>Maximum Temp (\\u00b0C)=%{marker.size}<extra></extra>\",\"legendgroup\":\"GB\",\"marker\":{\"color\":\"#00cc96\",\"size\":[40,37,36,32],\"sizemode\":\"area\",\"sizeref\":0.115,\"symbol\":\"circle\"},\"mode\":\"markers\",\"name\":\"GB\",\"orientation\":\"h\",\"showlegend\":true,\"x\":[40,37,36,32],\"xaxis\":\"x\",\"y\":[\"GB\",\"GB\",\"GB\",\"GB\"],\"yaxis\":\"y\",\"type\":\"scatter\"},{\"hovertemplate\":\"Province=%{y}<br>Maximum Temp (\\u00b0C)=%{marker.size}<extra></extra>\",\"legendgroup\":\"Punjab\",\"marker\":{\"color\":\"#ab63fa\",\"size\":[40,40,37,36,34,34,32,29,28,28,26,19],\"sizemode\":\"area\",\"sizeref\":0.115,\"symbol\":\"circle\"},\"mode\":\"markers\",\"name\":\"Punjab\",\"orientation\":\"h\",\"showlegend\":true,\"x\":[40,40,37,36,34,34,32,29,28,28,26,19],\"xaxis\":\"x\",\"y\":[\"Punjab\",\"Punjab\",\"Punjab\",\"Punjab\",\"Punjab\",\"Punjab\",\"Punjab\",\"Punjab\",\"Punjab\",\"Punjab\",\"Punjab\",\"Punjab\"],\"yaxis\":\"y\",\"type\":\"scatter\"},{\"hovertemplate\":\"Province=%{y}<br>Maximum Temp (\\u00b0C)=%{marker.size}<extra></extra>\",\"legendgroup\":\"KPK\",\"marker\":{\"color\":\"#FFA15A\",\"size\":[39,37,32,32,31,31,24,21],\"sizemode\":\"area\",\"sizeref\":0.115,\"symbol\":\"circle\"},\"mode\":\"markers\",\"name\":\"KPK\",\"orientation\":\"h\",\"showlegend\":true,\"x\":[39,37,32,32,31,31,24,21],\"xaxis\":\"x\",\"y\":[\"KPK\",\"KPK\",\"KPK\",\"KPK\",\"KPK\",\"KPK\",\"KPK\",\"KPK\"],\"yaxis\":\"y\",\"type\":\"scatter\"},{\"hovertemplate\":\"Province=%{y}<br>Maximum Temp (\\u00b0C)=%{marker.size}<extra></extra>\",\"legendgroup\":\"Kashmir\",\"marker\":{\"color\":\"#19d3f3\",\"size\":[29,28,28,27,26,22],\"sizemode\":\"area\",\"sizeref\":0.115,\"symbol\":\"circle\"},\"mode\":\"markers\",\"name\":\"Kashmir\",\"orientation\":\"h\",\"showlegend\":true,\"x\":[29,28,28,27,26,22],\"xaxis\":\"x\",\"y\":[\"Kashmir\",\"Kashmir\",\"Kashmir\",\"Kashmir\",\"Kashmir\",\"Kashmir\"],\"yaxis\":\"y\",\"type\":\"scatter\"},{\"hovertemplate\":\"Province=%{y}<br>Maximum Temp (\\u00b0C)=%{marker.size}<extra></extra>\",\"legendgroup\":\"Islamabad\",\"marker\":{\"color\":\"#FF6692\",\"size\":[28],\"sizemode\":\"area\",\"sizeref\":0.115,\"symbol\":\"circle\"},\"mode\":\"markers\",\"name\":\"Islamabad\",\"orientation\":\"h\",\"showlegend\":true,\"x\":[28],\"xaxis\":\"x\",\"y\":[\"Islamabad\"],\"yaxis\":\"y\",\"type\":\"scatter\"}],                        {\"template\":{\"data\":{\"histogram2dcontour\":[{\"type\":\"histogram2dcontour\",\"colorbar\":{\"outlinewidth\":0,\"ticks\":\"\"},\"colorscale\":[[0.0,\"#0d0887\"],[0.1111111111111111,\"#46039f\"],[0.2222222222222222,\"#7201a8\"],[0.3333333333333333,\"#9c179e\"],[0.4444444444444444,\"#bd3786\"],[0.5555555555555556,\"#d8576b\"],[0.6666666666666666,\"#ed7953\"],[0.7777777777777778,\"#fb9f3a\"],[0.8888888888888888,\"#fdca26\"],[1.0,\"#f0f921\"]]}],\"choropleth\":[{\"type\":\"choropleth\",\"colorbar\":{\"outlinewidth\":0,\"ticks\":\"\"}}],\"histogram2d\":[{\"type\":\"histogram2d\",\"colorbar\":{\"outlinewidth\":0,\"ticks\":\"\"},\"colorscale\":[[0.0,\"#0d0887\"],[0.1111111111111111,\"#46039f\"],[0.2222222222222222,\"#7201a8\"],[0.3333333333333333,\"#9c179e\"],[0.4444444444444444,\"#bd3786\"],[0.5555555555555556,\"#d8576b\"],[0.6666666666666666,\"#ed7953\"],[0.7777777777777778,\"#fb9f3a\"],[0.8888888888888888,\"#fdca26\"],[1.0,\"#f0f921\"]]}],\"heatmap\":[{\"type\":\"heatmap\",\"colorbar\":{\"outlinewidth\":0,\"ticks\":\"\"},\"colorscale\":[[0.0,\"#0d0887\"],[0.1111111111111111,\"#46039f\"],[0.2222222222222222,\"#7201a8\"],[0.3333333333333333,\"#9c179e\"],[0.4444444444444444,\"#bd3786\"],[0.5555555555555556,\"#d8576b\"],[0.6666666666666666,\"#ed7953\"],[0.7777777777777778,\"#fb9f3a\"],[0.8888888888888888,\"#fdca26\"],[1.0,\"#f0f921\"]]}],\"heatmapgl\":[{\"type\":\"heatmapgl\",\"colorbar\":{\"outlinewidth\":0,\"ticks\":\"\"},\"colorscale\":[[0.0,\"#0d0887\"],[0.1111111111111111,\"#46039f\"],[0.2222222222222222,\"#7201a8\"],[0.3333333333333333,\"#9c179e\"],[0.4444444444444444,\"#bd3786\"],[0.5555555555555556,\"#d8576b\"],[0.6666666666666666,\"#ed7953\"],[0.7777777777777778,\"#fb9f3a\"],[0.8888888888888888,\"#fdca26\"],[1.0,\"#f0f921\"]]}],\"contourcarpet\":[{\"type\":\"contourcarpet\",\"colorbar\":{\"outlinewidth\":0,\"ticks\":\"\"}}],\"contour\":[{\"type\":\"contour\",\"colorbar\":{\"outlinewidth\":0,\"ticks\":\"\"},\"colorscale\":[[0.0,\"#0d0887\"],[0.1111111111111111,\"#46039f\"],[0.2222222222222222,\"#7201a8\"],[0.3333333333333333,\"#9c179e\"],[0.4444444444444444,\"#bd3786\"],[0.5555555555555556,\"#d8576b\"],[0.6666666666666666,\"#ed7953\"],[0.7777777777777778,\"#fb9f3a\"],[0.8888888888888888,\"#fdca26\"],[1.0,\"#f0f921\"]]}],\"surface\":[{\"type\":\"surface\",\"colorbar\":{\"outlinewidth\":0,\"ticks\":\"\"},\"colorscale\":[[0.0,\"#0d0887\"],[0.1111111111111111,\"#46039f\"],[0.2222222222222222,\"#7201a8\"],[0.3333333333333333,\"#9c179e\"],[0.4444444444444444,\"#bd3786\"],[0.5555555555555556,\"#d8576b\"],[0.6666666666666666,\"#ed7953\"],[0.7777777777777778,\"#fb9f3a\"],[0.8888888888888888,\"#fdca26\"],[1.0,\"#f0f921\"]]}],\"mesh3d\":[{\"type\":\"mesh3d\",\"colorbar\":{\"outlinewidth\":0,\"ticks\":\"\"}}],\"scatter\":[{\"fillpattern\":{\"fillmode\":\"overlay\",\"size\":10,\"solidity\":0.2},\"type\":\"scatter\"}],\"parcoords\":[{\"type\":\"parcoords\",\"line\":{\"colorbar\":{\"outlinewidth\":0,\"ticks\":\"\"}}}],\"scatterpolargl\":[{\"type\":\"scatterpolargl\",\"marker\":{\"colorbar\":{\"outlinewidth\":0,\"ticks\":\"\"}}}],\"bar\":[{\"error_x\":{\"color\":\"#2a3f5f\"},\"error_y\":{\"color\":\"#2a3f5f\"},\"marker\":{\"line\":{\"color\":\"#E5ECF6\",\"width\":0.5},\"pattern\":{\"fillmode\":\"overlay\",\"size\":10,\"solidity\":0.2}},\"type\":\"bar\"}],\"scattergeo\":[{\"type\":\"scattergeo\",\"marker\":{\"colorbar\":{\"outlinewidth\":0,\"ticks\":\"\"}}}],\"scatterpolar\":[{\"type\":\"scatterpolar\",\"marker\":{\"colorbar\":{\"outlinewidth\":0,\"ticks\":\"\"}}}],\"histogram\":[{\"marker\":{\"pattern\":{\"fillmode\":\"overlay\",\"size\":10,\"solidity\":0.2}},\"type\":\"histogram\"}],\"scattergl\":[{\"type\":\"scattergl\",\"marker\":{\"colorbar\":{\"outlinewidth\":0,\"ticks\":\"\"}}}],\"scatter3d\":[{\"type\":\"scatter3d\",\"line\":{\"colorbar\":{\"outlinewidth\":0,\"ticks\":\"\"}},\"marker\":{\"colorbar\":{\"outlinewidth\":0,\"ticks\":\"\"}}}],\"scattermapbox\":[{\"type\":\"scattermapbox\",\"marker\":{\"colorbar\":{\"outlinewidth\":0,\"ticks\":\"\"}}}],\"scatterternary\":[{\"type\":\"scatterternary\",\"marker\":{\"colorbar\":{\"outlinewidth\":0,\"ticks\":\"\"}}}],\"scattercarpet\":[{\"type\":\"scattercarpet\",\"marker\":{\"colorbar\":{\"outlinewidth\":0,\"ticks\":\"\"}}}],\"carpet\":[{\"aaxis\":{\"endlinecolor\":\"#2a3f5f\",\"gridcolor\":\"white\",\"linecolor\":\"white\",\"minorgridcolor\":\"white\",\"startlinecolor\":\"#2a3f5f\"},\"baxis\":{\"endlinecolor\":\"#2a3f5f\",\"gridcolor\":\"white\",\"linecolor\":\"white\",\"minorgridcolor\":\"white\",\"startlinecolor\":\"#2a3f5f\"},\"type\":\"carpet\"}],\"table\":[{\"cells\":{\"fill\":{\"color\":\"#EBF0F8\"},\"line\":{\"color\":\"white\"}},\"header\":{\"fill\":{\"color\":\"#C8D4E3\"},\"line\":{\"color\":\"white\"}},\"type\":\"table\"}],\"barpolar\":[{\"marker\":{\"line\":{\"color\":\"#E5ECF6\",\"width\":0.5},\"pattern\":{\"fillmode\":\"overlay\",\"size\":10,\"solidity\":0.2}},\"type\":\"barpolar\"}],\"pie\":[{\"automargin\":true,\"type\":\"pie\"}]},\"layout\":{\"autotypenumbers\":\"strict\",\"colorway\":[\"#636efa\",\"#EF553B\",\"#00cc96\",\"#ab63fa\",\"#FFA15A\",\"#19d3f3\",\"#FF6692\",\"#B6E880\",\"#FF97FF\",\"#FECB52\"],\"font\":{\"color\":\"#2a3f5f\"},\"hovermode\":\"closest\",\"hoverlabel\":{\"align\":\"left\"},\"paper_bgcolor\":\"white\",\"plot_bgcolor\":\"#E5ECF6\",\"polar\":{\"bgcolor\":\"#E5ECF6\",\"angularaxis\":{\"gridcolor\":\"white\",\"linecolor\":\"white\",\"ticks\":\"\"},\"radialaxis\":{\"gridcolor\":\"white\",\"linecolor\":\"white\",\"ticks\":\"\"}},\"ternary\":{\"bgcolor\":\"#E5ECF6\",\"aaxis\":{\"gridcolor\":\"white\",\"linecolor\":\"white\",\"ticks\":\"\"},\"baxis\":{\"gridcolor\":\"white\",\"linecolor\":\"white\",\"ticks\":\"\"},\"caxis\":{\"gridcolor\":\"white\",\"linecolor\":\"white\",\"ticks\":\"\"}},\"coloraxis\":{\"colorbar\":{\"outlinewidth\":0,\"ticks\":\"\"}},\"colorscale\":{\"sequential\":[[0.0,\"#0d0887\"],[0.1111111111111111,\"#46039f\"],[0.2222222222222222,\"#7201a8\"],[0.3333333333333333,\"#9c179e\"],[0.4444444444444444,\"#bd3786\"],[0.5555555555555556,\"#d8576b\"],[0.6666666666666666,\"#ed7953\"],[0.7777777777777778,\"#fb9f3a\"],[0.8888888888888888,\"#fdca26\"],[1.0,\"#f0f921\"]],\"sequentialminus\":[[0.0,\"#0d0887\"],[0.1111111111111111,\"#46039f\"],[0.2222222222222222,\"#7201a8\"],[0.3333333333333333,\"#9c179e\"],[0.4444444444444444,\"#bd3786\"],[0.5555555555555556,\"#d8576b\"],[0.6666666666666666,\"#ed7953\"],[0.7777777777777778,\"#fb9f3a\"],[0.8888888888888888,\"#fdca26\"],[1.0,\"#f0f921\"]],\"diverging\":[[0,\"#8e0152\"],[0.1,\"#c51b7d\"],[0.2,\"#de77ae\"],[0.3,\"#f1b6da\"],[0.4,\"#fde0ef\"],[0.5,\"#f7f7f7\"],[0.6,\"#e6f5d0\"],[0.7,\"#b8e186\"],[0.8,\"#7fbc41\"],[0.9,\"#4d9221\"],[1,\"#276419\"]]},\"xaxis\":{\"gridcolor\":\"white\",\"linecolor\":\"white\",\"ticks\":\"\",\"title\":{\"standoff\":15},\"zerolinecolor\":\"white\",\"automargin\":true,\"zerolinewidth\":2},\"yaxis\":{\"gridcolor\":\"white\",\"linecolor\":\"white\",\"ticks\":\"\",\"title\":{\"standoff\":15},\"zerolinecolor\":\"white\",\"automargin\":true,\"zerolinewidth\":2},\"scene\":{\"xaxis\":{\"backgroundcolor\":\"#E5ECF6\",\"gridcolor\":\"white\",\"linecolor\":\"white\",\"showbackground\":true,\"ticks\":\"\",\"zerolinecolor\":\"white\",\"gridwidth\":2},\"yaxis\":{\"backgroundcolor\":\"#E5ECF6\",\"gridcolor\":\"white\",\"linecolor\":\"white\",\"showbackground\":true,\"ticks\":\"\",\"zerolinecolor\":\"white\",\"gridwidth\":2},\"zaxis\":{\"backgroundcolor\":\"#E5ECF6\",\"gridcolor\":\"white\",\"linecolor\":\"white\",\"showbackground\":true,\"ticks\":\"\",\"zerolinecolor\":\"white\",\"gridwidth\":2}},\"shapedefaults\":{\"line\":{\"color\":\"#2a3f5f\"}},\"annotationdefaults\":{\"arrowcolor\":\"#2a3f5f\",\"arrowhead\":0,\"arrowwidth\":1},\"geo\":{\"bgcolor\":\"white\",\"landcolor\":\"#E5ECF6\",\"subunitcolor\":\"white\",\"showland\":true,\"showlakes\":true,\"lakecolor\":\"white\"},\"title\":{\"x\":0.05},\"mapbox\":{\"style\":\"light\"}}},\"xaxis\":{\"anchor\":\"y\",\"domain\":[0.0,1.0],\"title\":{\"text\":\"Maximum Temp (\\u00b0C)\"}},\"yaxis\":{\"anchor\":\"x\",\"domain\":[0.0,1.0],\"title\":{\"text\":\"Province\"},\"categoryorder\":\"array\",\"categoryarray\":[\"Islamabad\",\"Kashmir\",\"KPK\",\"Punjab\",\"GB\",\"Sindh\",\"Balochistan\"]},\"legend\":{\"title\":{\"text\":\"Province\"},\"tracegroupgap\":0,\"itemsizing\":\"constant\"},\"title\":{\"text\":\"Sample Figure\"}},                        {\"responsive\": true}                    ).then(function(){\n",
              "                            \n",
              "var gd = document.getElementById('5c094358-e3c6-42b8-8061-b49faf27627f');\n",
              "var x = new MutationObserver(function (mutations, observer) {{\n",
              "        var display = window.getComputedStyle(gd).display;\n",
              "        if (!display || display === 'none') {{\n",
              "            console.log([gd, 'removed!']);\n",
              "            Plotly.purge(gd);\n",
              "            observer.disconnect();\n",
              "        }}\n",
              "}});\n",
              "\n",
              "// Listen for the removal of the full notebook cells\n",
              "var notebookContainer = gd.closest('#notebook-container');\n",
              "if (notebookContainer) {{\n",
              "    x.observe(notebookContainer, {childList: true});\n",
              "}}\n",
              "\n",
              "// Listen for the clearing of the current output cell\n",
              "var outputEl = gd.closest('.output');\n",
              "if (outputEl) {{\n",
              "    x.observe(outputEl, {childList: true});\n",
              "}}\n",
              "\n",
              "                        })                };                            </script>        </div>\n",
              "</body>\n",
              "</html>"
            ]
          },
          "metadata": {}
        }
      ]
    }
  ]
}